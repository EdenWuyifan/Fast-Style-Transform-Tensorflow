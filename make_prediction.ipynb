{
 "cells": [
  {
   "cell_type": "code",
   "execution_count": 1,
   "metadata": {},
   "outputs": [],
   "source": [
    "import tensorflow as tf\n",
    "import os\n",
    "import utils\n",
    "import style_transfer_tester\n",
    "import time\n",
    "import numpy as np"
   ]
  },
  {
   "cell_type": "code",
   "execution_count": 2,
   "metadata": {},
   "outputs": [
    {
     "name": "stdout",
     "output_type": "stream",
     "text": [
      "WARNING:tensorflow:From /home/wuyifan03/.jupyter/FST/style_transfer_tester.py:30: The name tf.placeholder is deprecated. Please use tf.compat.v1.placeholder instead.\n",
      "\n",
      "WARNING:tensorflow:From /home/wuyifan03/.jupyter/FST/transform.py:77: The name tf.variable_scope is deprecated. Please use tf.compat.v1.variable_scope instead.\n",
      "\n",
      "WARNING:tensorflow:\n",
      "The TensorFlow contrib module will not be included in TensorFlow 2.0.\n",
      "For more information, please see:\n",
      "  * https://github.com/tensorflow/community/blob/master/rfcs/20180907-contrib-sunset.md\n",
      "  * https://github.com/tensorflow/addons\n",
      "  * https://github.com/tensorflow/io (for I/O related ops)\n",
      "If you depend on functionality not listed there, please file an issue.\n",
      "\n",
      "WARNING:tensorflow:From /home/wuyifan03/.jupyter/FST/transform.py:65: The name tf.get_variable is deprecated. Please use tf.compat.v1.get_variable instead.\n",
      "\n",
      "WARNING:tensorflow:From /home/wuyifan03/.jupyter/FST/style_transfer_tester.py:43: The name tf.global_variables_initializer is deprecated. Please use tf.compat.v1.global_variables_initializer instead.\n",
      "\n",
      "WARNING:tensorflow:From /home/wuyifan03/.jupyter/FST/style_transfer_tester.py:46: The name tf.train.Saver is deprecated. Please use tf.compat.v1.train.Saver instead.\n",
      "\n",
      "INFO:tensorflow:Restoring parameters from models/final.ckpt\n",
      "(4, 512, 512, 3)\n",
      "(512, 512, 3)\n",
      "(512, 512, 3)\n",
      "(512, 512, 3)\n",
      "(512, 512, 3)\n",
      "Execution time for a 4 x 512 image : 54.695928 msec\n"
     ]
    }
   ],
   "source": [
    "CONTENT_LIST = \"content/\"\n",
    "MODEL_PATH = \"models/final.ckpt\"\n",
    "OUTPUT_PATH = \"outputs/\"\n",
    "save_path = \"trained_model/\"\n",
    "BATCH_SIZE = 4\n",
    "\n",
    "def main():\n",
    "    \n",
    "    # load content image\n",
    "    batch_shape = (BATCH_SIZE, 512, 512, 3)\n",
    "    content_batch = np.zeros(batch_shape, dtype=np.float32)\n",
    "    \n",
    "    content_list = os.listdir(CONTENT_LIST)\n",
    "    for j, img_p in enumerate(content_list[:BATCH_SIZE]):\n",
    "        content_batch[j] = utils.load_image(CONTENT_LIST + img_p)\n",
    "    \n",
    "    \n",
    "    # open session\n",
    "    soft_config = tf.ConfigProto(allow_soft_placement=True)\n",
    "    soft_config.gpu_options.allow_growth = True # to deal with large image\n",
    "    sess = tf.Session(config=soft_config)\n",
    "    \n",
    "    # build the graph\n",
    "    transformer = style_transfer_tester.StyleTransferTester(session=sess,\n",
    "                                                            model_path=MODEL_PATH,\n",
    "                                                            content_image=content_batch,\n",
    "                                                            batch_size=BATCH_SIZE\n",
    "                                                            )\n",
    "    # execute the graph\n",
    "    start_time = time.time()\n",
    "    output_images = transformer.test()\n",
    "    \n",
    "    end_time = time.time()\n",
    "    \n",
    "    saver = tf.train.Saver()\n",
    "    res = saver.save(sess,save_path+'/final.ckpt')\n",
    "    print(output_images.shape)\n",
    "    # save result\n",
    "    for i in range(BATCH_SIZE):\n",
    "        utils.save_image(output_images[i], OUTPUT_PATH+\"out_{}.jpg\".format(i))\n",
    "\n",
    "    # report execution time\n",
    "    shape = content_batch.shape #(batch, width, height, channel)\n",
    "    print('Execution time for a %d x %d image : %f msec' % (shape[0], shape[1], 1000.*float(end_time - start_time)/60))\n",
    "\n",
    "    # save logs for tensorboard\n",
    "    #writer = tf.compat.v1.summary.FileWriter('logs/',sess.graph)\n",
    "    \n",
    "if __name__ == '__main__':\n",
    "    main()\n",
    "    #print([tensor.name for tensor in tf.compat.v1.get_default_graph().as_graph_def().node])"
   ]
  }
 ],
 "metadata": {
  "kernelspec": {
   "display_name": "Python 3",
   "language": "python",
   "name": "python3"
  },
  "language_info": {
   "codemirror_mode": {
    "name": "ipython",
    "version": 3
   },
   "file_extension": ".py",
   "mimetype": "text/x-python",
   "name": "python",
   "nbconvert_exporter": "python",
   "pygments_lexer": "ipython3",
   "version": "3.6.9"
  }
 },
 "nbformat": 4,
 "nbformat_minor": 4
}
